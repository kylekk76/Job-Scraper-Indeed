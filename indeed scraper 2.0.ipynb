{
 "cells": [
  {
   "cell_type": "markdown",
   "id": "8c76d30c",
   "metadata": {},
   "source": [
    "<h1>Job Searcher Indeed </h1>\n"
   ]
  },
  {
   "cell_type": "markdown",
   "id": "d6f15e9c",
   "metadata": {},
   "source": [
    "### To Implement\n",
    "- Loop to go throw all the pages avaliable\n",
    "- Filter Items\n",
    "- Searcher for diferent jobs\n",
    "- Searcher for diferent locations\n",
    "- Machine learning program to select jobs"
   ]
  },
  {
   "cell_type": "code",
   "execution_count": 2,
   "id": "dff7eb25",
   "metadata": {},
   "outputs": [],
   "source": [
    "import requests\n",
    "from bs4 import BeautifulSoup\n",
    "import pandas as pd\n"
   ]
  },
  {
   "cell_type": "code",
   "execution_count": 3,
   "id": "38aa99c0",
   "metadata": {},
   "outputs": [],
   "source": [
    "def extract_the(page=0):\n",
    "    headers={\"user_Agents\":\"Mozilla/5.0 (Windows NT 10.0; Win64; x64) AppleWebKit/537.36 (KHTML, like Gecko) Chrome/103.0.0.0 Safari/537.36\"}\n",
    "    url=f'https://uk.indeed.com/jobs?q=data+analyst&start={page}' # the page is as a placeholder to can go throw pages more in advance\n",
    "    r=requests.get(url,headers)\n",
    "    soup= BeautifulSoup(r.content,\"html.parser\")\n",
    "    return soup\n"
   ]
  },
  {
   "cell_type": "code",
   "execution_count": 4,
   "id": "24511829",
   "metadata": {},
   "outputs": [],
   "source": [
    "def transform(soup):\n",
    "\n",
    "    jobs=soup.find_all(\"div\",class_=\"job_seen_beacon\") # the list that it gives us back is each of the jobs\n",
    "    for job in jobs: # we go throw the list finding what we need and adding all of this to a dictionary\n",
    "        djobs={\n",
    "        \"title\"      :  job.find(\"a\").text.strip(),\n",
    "        \"company\"    :job.find(\"span\",class_=\"companyName\").text.strip(),\n",
    "        \"link\"       :   \"https://uk.indeed.com/viewjob?jk=\"+ job.find(\"a\").attrs[\"data-jk\"],\n",
    "        \"description\":job.find(\"div\",class_=\"job-snippet\").text.strip().replace(\"\\n\",\"\"),\n",
    "        \"status\"     :job.find(\"span\",class_=\"date\").text.strip()\n",
    "        }\n",
    "        try: # some of them do not have salary so to try evade errors we do a try and except\n",
    "            djobs[\"salary\"]=job.find(\"div\",class_=\"metadata salary-snippet-container\").text.strip()\n",
    "        except:\n",
    "            djobs[\"salary\"]=\"Not Declared\"\n",
    "        joblist.append(djobs)\n",
    "    return \n",
    "joblist=[]  #we leave the list outside of the function so it can store all the info and its not getting reset everytime we \n",
    "            #call the function transform"
   ]
  },
  {
   "cell_type": "code",
   "execution_count": 5,
   "id": "a9be2838",
   "metadata": {
    "scrolled": true
   },
   "outputs": [],
   "source": [
    "for pages in range(0,10): # run throw the first 10 pages\n",
    "    info=extract_the(pages)\n",
    "    transform(info)"
   ]
  },
  {
   "cell_type": "code",
   "execution_count": 6,
   "id": "3def18e1",
   "metadata": {},
   "outputs": [],
   "source": [
    "df=pd.DataFrame(joblist) #creating a dataframe"
   ]
  },
  {
   "cell_type": "code",
   "execution_count": 7,
   "id": "9f95f71b",
   "metadata": {},
   "outputs": [
    {
     "data": {
      "text/html": [
       "<div>\n",
       "<style scoped>\n",
       "    .dataframe tbody tr th:only-of-type {\n",
       "        vertical-align: middle;\n",
       "    }\n",
       "\n",
       "    .dataframe tbody tr th {\n",
       "        vertical-align: top;\n",
       "    }\n",
       "\n",
       "    .dataframe thead th {\n",
       "        text-align: right;\n",
       "    }\n",
       "</style>\n",
       "<table border=\"1\" class=\"dataframe\">\n",
       "  <thead>\n",
       "    <tr style=\"text-align: right;\">\n",
       "      <th></th>\n",
       "      <th>title</th>\n",
       "      <th>company</th>\n",
       "      <th>link</th>\n",
       "      <th>description</th>\n",
       "      <th>status</th>\n",
       "      <th>salary</th>\n",
       "    </tr>\n",
       "  </thead>\n",
       "  <tbody>\n",
       "    <tr>\n",
       "      <th>0</th>\n",
       "      <td>Senior Data Analyst</td>\n",
       "      <td>Davies Group</td>\n",
       "      <td>https://uk.indeed.com/viewjob?jk=3c9a274038246231</td>\n",
       "      <td>Working in a data analysis/insight role with e...</td>\n",
       "      <td>Posted4 days ago</td>\n",
       "      <td>£45,000 - £60,000 a year</td>\n",
       "    </tr>\n",
       "    <tr>\n",
       "      <th>1</th>\n",
       "      <td>Data Analyst</td>\n",
       "      <td>Takkt (UK)</td>\n",
       "      <td>https://uk.indeed.com/viewjob?jk=d9953c1aa9da1f9c</td>\n",
       "      <td>Translate data into a readable format via dash...</td>\n",
       "      <td>EmployerActive 18 days ago</td>\n",
       "      <td>£30,000 - £35,000 a year</td>\n",
       "    </tr>\n",
       "    <tr>\n",
       "      <th>2</th>\n",
       "      <td>Data Analyst</td>\n",
       "      <td>Tata Consultancy Services (TCS)</td>\n",
       "      <td>https://uk.indeed.com/viewjob?jk=54b4be7372d6a284</td>\n",
       "      <td>Familiarity with data modelling, data mapping,...</td>\n",
       "      <td>Posted12 days ago</td>\n",
       "      <td>Not Declared</td>\n",
       "    </tr>\n",
       "    <tr>\n",
       "      <th>3</th>\n",
       "      <td>Data Analyst</td>\n",
       "      <td>Affinity Water</td>\n",
       "      <td>https://uk.indeed.com/viewjob?jk=bb4c1193c6fdb5d4</td>\n",
       "      <td>Using your excellent analytical skills, you’ll...</td>\n",
       "      <td>Posted3 days ago</td>\n",
       "      <td>Not Declared</td>\n",
       "    </tr>\n",
       "    <tr>\n",
       "      <th>4</th>\n",
       "      <td>Data Analyst (Coach)</td>\n",
       "      <td>Takkt (UK)</td>\n",
       "      <td>https://uk.indeed.com/viewjob?jk=485bcfb16bd3c33a</td>\n",
       "      <td>Translate data into a readable format via dash...</td>\n",
       "      <td>EmployerActive 18 days ago</td>\n",
       "      <td>£30,000 - £35,000 a year</td>\n",
       "    </tr>\n",
       "  </tbody>\n",
       "</table>\n",
       "</div>"
      ],
      "text/plain": [
       "                  title                          company  \\\n",
       "0   Senior Data Analyst                     Davies Group   \n",
       "1          Data Analyst                       Takkt (UK)   \n",
       "2          Data Analyst  Tata Consultancy Services (TCS)   \n",
       "3          Data Analyst                   Affinity Water   \n",
       "4  Data Analyst (Coach)                       Takkt (UK)   \n",
       "\n",
       "                                                link  \\\n",
       "0  https://uk.indeed.com/viewjob?jk=3c9a274038246231   \n",
       "1  https://uk.indeed.com/viewjob?jk=d9953c1aa9da1f9c   \n",
       "2  https://uk.indeed.com/viewjob?jk=54b4be7372d6a284   \n",
       "3  https://uk.indeed.com/viewjob?jk=bb4c1193c6fdb5d4   \n",
       "4  https://uk.indeed.com/viewjob?jk=485bcfb16bd3c33a   \n",
       "\n",
       "                                         description  \\\n",
       "0  Working in a data analysis/insight role with e...   \n",
       "1  Translate data into a readable format via dash...   \n",
       "2  Familiarity with data modelling, data mapping,...   \n",
       "3  Using your excellent analytical skills, you’ll...   \n",
       "4  Translate data into a readable format via dash...   \n",
       "\n",
       "                       status                    salary  \n",
       "0            Posted4 days ago  £45,000 - £60,000 a year  \n",
       "1  EmployerActive 18 days ago  £30,000 - £35,000 a year  \n",
       "2           Posted12 days ago              Not Declared  \n",
       "3            Posted3 days ago              Not Declared  \n",
       "4  EmployerActive 18 days ago  £30,000 - £35,000 a year  "
      ]
     },
     "execution_count": 7,
     "metadata": {},
     "output_type": "execute_result"
    }
   ],
   "source": [
    "df.head() # showing a little bit"
   ]
  },
  {
   "cell_type": "code",
   "execution_count": null,
   "id": "1ce788c5",
   "metadata": {},
   "outputs": [],
   "source": []
  }
 ],
 "metadata": {
  "kernelspec": {
   "display_name": "Python 3 (ipykernel)",
   "language": "python",
   "name": "python3"
  },
  "language_info": {
   "codemirror_mode": {
    "name": "ipython",
    "version": 3
   },
   "file_extension": ".py",
   "mimetype": "text/x-python",
   "name": "python",
   "nbconvert_exporter": "python",
   "pygments_lexer": "ipython3",
   "version": "3.9.12"
  }
 },
 "nbformat": 4,
 "nbformat_minor": 5
}
