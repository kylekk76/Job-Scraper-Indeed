{
 "cells": [
  {
   "cell_type": "markdown",
   "id": "8c76d30c",
   "metadata": {},
   "source": [
    "<h1>Job Searcher Indeed </h1>\n"
   ]
  },
  {
   "cell_type": "markdown",
   "id": "d6f15e9c",
   "metadata": {},
   "source": [
    "### To Implement\n",
    "- [x] Loop to go throw all the pages avaliable (i will not implement this as after a maximun of 10 pages the result is useles)\n",
    "- [] Clean the data for pos-procesing.\n",
    "- [x] Searcher for diferent jobs.\n",
    "- [] Plot the proyect in a interactive geomap.\n",
    "- [] Searcher for diferent locations (right know when you pastle your link search in your last location).\n",
    "- [] Machine learning program to select the best jobs in your area (following your preferences)\n",
    "- [] 2 part that when you select a list of jobs, scrape more information about it\n",
    "- [x] Save to an excel file\n",
    "- [] Add diferent pages as a linked id to the scraping to not use just indeed."
   ]
  },
  {
   "cell_type": "markdown",
   "id": "7a32ecbe",
   "metadata": {},
   "source": [
    "Before we used \"requests\" library but as indeed is now part of cloudflare we need to use a library as cloudscraper to bypass that wee security."
   ]
  },
  {
   "cell_type": "code",
   "execution_count": 87,
   "id": "dff7eb25",
   "metadata": {},
   "outputs": [],
   "source": [
    "#import requests\n",
    "import cloudscraper\n",
    "from bs4 import BeautifulSoup\n",
    "import pandas as pd"
   ]
  },
  {
   "cell_type": "markdown",
   "id": "66760371",
   "metadata": {},
   "source": [
    "We eliminate the headers as they are not necesary for this proyect, as before they was for the requests library.\n",
    "\n",
    "* headers={\"user_Agents\":\"Mozilla/5.0 (Windows NT 10.0; Win64; x64) AppleWebKit/537.36 (KHTML, like Gecko) Chrome/103.0.0.0 Safari/537.36\"}"
   ]
  },
  {
   "cell_type": "code",
   "execution_count": 163,
   "id": "38aa99c0",
   "metadata": {
    "scrolled": true
   },
   "outputs": [
    {
     "name": "stdout",
     "output_type": "stream",
     "text": [
      "<Response [200]>\n"
     ]
    }
   ],
   "source": [
    "def extract_the(page=0,word1=\"assistant\",word2=\"manager\"):\n",
    "    scraper = cloudscraper.create_scraper(delay=10, browser='chrome')\n",
    "    url=f'https://uk.indeed.com/jobs?q={word1}+{word2}&start={page}' # placeholder to go throw the information we need\n",
    "    r = scraper.get(url)\n",
    "    soup= BeautifulSoup(r.text,\"html.parser\")\n",
    "    return soup,r\n",
    "print(extract_the()[1])"
   ]
  },
  {
   "cell_type": "markdown",
   "id": "08569985",
   "metadata": {},
   "source": [
    "**We also add the response in the last cell, to catch is is a problem with the update of the cloudflare as the last time and we are not conecting properly.**"
   ]
  },
  {
   "cell_type": "code",
   "execution_count": 168,
   "id": "24511829",
   "metadata": {},
   "outputs": [
    {
     "name": "stdout",
     "output_type": "stream",
     "text": [
      "done\n"
     ]
    }
   ],
   "source": [
    "def transform(soup):\n",
    "\n",
    "    jobs=soup.find_all(\"div\",class_=\"job_seen_beacon\") # the list that it gives us back is each of the jobs\n",
    "    for job in jobs: # we go throw the list finding what we need and adding all of this to a dictionary\n",
    "        djobs={\n",
    "        \"Title\"      :job.find(\"a\").text.strip(),\n",
    "        \"Company\"    :job.find(\"span\",class_=\"companyName\").text.strip(),\n",
    "        \"Location\"   :job.find(\"div\",class_=\"companyLocation\").text.strip(),\n",
    "        \"Link\"       :\"https://uk.indeed.com/viewjob?jk=\"+ job.find(\"a\").attrs[\"data-jk\"],\n",
    "        \"Status\"     :job.find(\"span\",class_=\"date\").text.strip()\n",
    "        }\n",
    "        try: # some of them do not have salary so to try evade errors we do a try and except\n",
    "            djobs[\"salary\"]=job.find(\"div\",class_=\"metadata salary-snippet-container\").text.strip()\n",
    "        except:\n",
    "            djobs[\"salary\"]=\"Not Declared\"\n",
    "        try: # this sometimes give error, i can not find the problem yet, so we leave here\n",
    "            djobs[\"Description\"]=job.find(\"li\").text.strip()\n",
    "        except:\n",
    "            djobs[\"Description\"]=\"Not Found\"\n",
    "            \n",
    "        joblist.append(djobs)\n",
    "    return \n",
    "\n",
    "joblist=[] \n",
    "            \n",
    "print(\"done\")"
   ]
  },
  {
   "cell_type": "code",
   "execution_count": 169,
   "id": "a9be2838",
   "metadata": {
    "scrolled": true
   },
   "outputs": [
    {
     "name": "stdout",
     "output_type": "stream",
     "text": [
      "[{'Title': 'Assistant General Manager', 'Company': 'Stravaigin', 'Location': 'Glasgow G12', 'Link': 'https://uk.indeed.com/viewjob?jk=990c1b1d66698dc5', 'Status': 'EmployerActive 4 days ago', 'salary': '£31,000 - £35,000 a year', 'Description': 'To implement and maintain training schedule and ensure all team members are fully verse in training requirements.'}, {'Title': 'Retail Assistant Manager', 'Company': 'French Connection', 'Location': 'Glasgow G1', 'Link': 'https://uk.indeed.com/viewjob?jk=109b5c4ad56f924b', 'Status': 'EmployerActive 4 days ago', 'salary': '£21,000 - £23,000 a year', 'Description': 'The ability to excel in a commercially focused environment.'}, {'Title': 'Assistant Venue Manager', 'Company': 'VEGA', 'Location': 'Glasgow G2', 'Link': 'https://uk.indeed.com/viewjob?jk=e7bfca102a9f49a8', 'Status': 'Posted11 days ago', 'salary': '£26,000 a year', 'Description': 'We are looking for someone who loves to coach and lead teams in creating a welcoming & inviting experience for all our guests.'}, {'Title': 'Trainee Assistant Manager', 'Company': 'Savoy Nightclub', 'Location': 'Glasgow G2', 'Link': 'https://uk.indeed.com/viewjob?jk=cff3fe3553c380e5', 'Status': 'PostedToday', 'salary': '£10 - £15 an hour', 'Description': 'Day to day running of the business.'}, {'Title': 'Assistant Manager- Gordon Street Coffee', 'Company': 'Gordon St Coffee - Glasgow', 'Location': 'Glasgow G1', 'Link': 'https://uk.indeed.com/viewjob?jk=774b2a4fc750822e', 'Status': 'Posted3 days ago', 'salary': 'Not Declared', 'Description': 'This is a full-time role, ideal for someone from a small batch background looking to develop their management skills, or alternatively someone from a volume…'}, {'Title': 'Assistant General Manager - Glasgow', 'Company': 'The Alchemist Bar & Restaurant', 'Location': 'Glasgow+2 locations', 'Link': 'https://uk.indeed.com/viewjob?jk=550792536ff3fcb0', 'Status': 'EmployerActive 3 days ago', 'salary': 'From £30,000 a year', 'Description': 'You will begin to learn, Profits & Loss, Sales Forecasting, Financial Budgets, Management training, Compliance, while continually supporting the General Manager…'}, {'Title': 'Assistant Manager', 'Company': 'Brewdog Plc', 'Location': 'Glasgow G1+5 locations', 'Link': 'https://uk.indeed.com/viewjob?jk=a59ef542d879b4be', 'Status': 'Posted3 days ago', 'salary': 'Not Declared', 'Description': 'COMPANY SHARES OVER 4 YEARS | 50% PROFIT SCHEME FOR YOU AND YOUR TEAM | PAID OVERTIME | PENSION ENHANCEMENTS UP TO 10% | TAXI HOME CONTIRBUTIONS | 4-WEEK…'}, {'Title': 'Assistant Project Manager', 'Company': 'SSE', 'Location': '+4 locationsRemote', 'Link': 'https://uk.indeed.com/viewjob?jk=fc5f2b2e3c70632e', 'Status': 'Posted12 days ago', 'salary': '£32,600 - £48,800 a year', 'Description': 'Lead the co-ordination of and provide input to, the production of design and build specifications, invitations to tender and tender assessments to ensure they…'}, {'Title': 'Assistant Night Manager', 'Company': 'Hilton Glasgow Hotel', 'Location': 'Glasgow G3', 'Link': 'https://uk.indeed.com/viewjob?jk=5daaa3109f2cbd33', 'Status': 'Posted6 days ago', 'salary': 'Up to £22,308 a year', 'Description': 'You enjoy delivering a VIP experience to every guest during night time operations, going above and beyond to make their stay a memorable one.'}, {'Title': 'Assistant Manager - Chopstix Silverburn', 'Company': 'Chopstix', 'Location': 'Glasgow G53', 'Link': 'https://uk.indeed.com/viewjob?jk=8b2269a244df1dc8', 'Status': 'Posted2 days ago', 'salary': '£24,000 - £26,000 a year', 'Description': 'Deliver exceptional customer service every time?'}, {'Title': 'Assistant Manager', 'Company': 'Fraser Hart', 'Location': 'Glasgow+2 locations', 'Link': 'https://uk.indeed.com/viewjob?jk=81044062c10be0eb', 'Status': 'Posted3 days ago', 'salary': 'Not Declared', 'Description': 'An Assistant Manager in a Fraser Hart store will use a variety of leadership skills to drive sales, achieve KPI’s and ultimately maximise store performance.'}, {'Title': 'Office Manager/Executive Assistant', 'Company': 'Taylorson Group', 'Location': 'London E8', 'Link': 'https://uk.indeed.com/viewjob?jk=f82fe5c30e45313c', 'Status': 'Posted6 days ago', 'salary': '£40,000 - £50,000 a year', 'Description': 'Build a good working relationship with the CEO and receive additional exposure to business duties outside of a traditional Office Manager / EA role.'}, {'Title': 'ID2022-3554 - Assistant Finance Manager', 'Company': 'Social Security Scotland', 'Location': 'Glasgow+1 location', 'Link': 'https://uk.indeed.com/viewjob?jk=04a88b5c5aa44051', 'Status': 'Posted3 days ago', 'salary': '£31,542 - £36,129 a year', 'Description': 'Discounts - You can enjoy a vast range of retail, travel and lifestyle discounts through our benefit scheme.'}, {'Title': 'Assistant Restaurant Manager', 'Company': \"Celino's Italian Glasgow\", 'Location': 'Glasgow G31', 'Link': 'https://uk.indeed.com/viewjob?jk=ec1e6b66f3f78dce', 'Status': 'PostedToday', 'salary': '£10 - £11 an hour', 'Description': 'The successful candidate will have experience in a similar role or if you are looking to progress into management full training will be given.'}, {'Title': 'Assistant Restaurant Manager', 'Company': '1051 GWR Bar & Grill', 'Location': 'Glasgow G12', 'Link': 'https://uk.indeed.com/viewjob?jk=29f79202457f4262', 'Status': 'EmployerActive 2 days ago', 'salary': '£25,000 - £32,000 a year', 'Description': 'Salary between £25000-£32000 depending on experience.'}, {'Title': 'Assistant Restaurant Manager', 'Company': \"Celino's Italian Glasgow\", 'Location': 'Glasgow G31', 'Link': 'https://uk.indeed.com/viewjob?jk=ec1e6b66f3f78dce', 'Status': 'PostedToday', 'salary': '£10 - £11 an hour', 'Description': 'The successful candidate will have experience in a similar role or if you are looking to progress into management full training will be given.'}, {'Title': 'Assistant Health Club Manager', 'Company': 'Hilton', 'Location': 'Glasgow G3', 'Link': 'https://uk.indeed.com/viewjob?jk=8a8c607fa5654ac7', 'Status': 'PostedPosted 2 days ago', 'salary': 'Up to £24,000 a year', 'Description': 'Smart uniform provided and laundered.'}, {'Title': 'Assistant Relationship Manager (12 months)', 'Company': 'RBS International', 'Location': 'Gibraltar+1 location', 'Link': 'https://uk.indeed.com/viewjob?jk=d75efe66ce204400', 'Status': 'PostedPosted 5 days ago', 'salary': 'Not Declared', 'Description': 'Supporting business connect managers to undertake customer risk assessments.'}, {'Title': 'Food & Beverage Assistant Manager', 'Company': 'Marriott International, Inc', 'Location': 'Glasgow G3', 'Link': 'https://uk.indeed.com/viewjob?jk=37329323f559be94', 'Status': 'PostedPosted 3 days ago', 'salary': 'Not Declared', 'Description': 'Ensure adherence to quality expectations and standards; and identify, recommend, develop, and implement new ways to increase organizational efficiency,…'}, {'Title': 'Assistant Restaurant Manager', 'Company': '1051 GWR Bar & Grill', 'Location': 'Glasgow G12', 'Link': 'https://uk.indeed.com/viewjob?jk=29f79202457f4262', 'Status': 'EmployerActive 2 days ago', 'salary': '£25,000 - £32,000 a year', 'Description': 'Salary between £25000-£32000 depending on experience.'}, {'Title': 'Assistant Brand Manager', 'Company': 'Carlsberg Marston’s Brewing Company', 'Location': 'Remote', 'Link': 'https://uk.indeed.com/viewjob?jk=42d9d0c233c71177', 'Status': 'PostedPosted 5 days ago', 'salary': 'Not Declared', 'Description': 'Deliver clear and focused plans that deliver ROI on above the line investment and below the line activation.'}, {'Title': 'Assistant Store Manager', 'Company': 'Michael Kors', 'Location': 'Glasgow+2 locations', 'Link': 'https://uk.indeed.com/viewjob?jk=b3299045b3af1f1a', 'Status': 'PostedPosted 12 days ago', 'salary': 'Not Declared', 'Description': '\\uf0b7 Maintain a keen interest in the fashion industry and market trends.'}, {'Title': 'Assistant Policy Manager', 'Company': 'Ofgem', 'Location': 'Glasgow G1+1 location', 'Link': 'https://uk.indeed.com/viewjob?jk=fae6d5ffcc33fffa', 'Status': 'PostedPosted 30+ days ago', 'salary': '£23,641 - £29,382 a year', 'Description': 'You’ll have excellent organisational and prioritisation skills, and the ability to manage your own workload.'}, {'Title': 'Assistant Manager', 'Company': 'skːn Clinics', 'Location': 'Glasgow G1+1 location', 'Link': 'https://uk.indeed.com/viewjob?jk=53765a97ac3ea646', 'Status': 'EmployerActive 8 days ago', 'salary': 'Up to £23,000 a year', 'Description': '48-50 Gordon St, Glasgow G1 3PU.'}, {'Title': 'Assistant Manager - Flannels', 'Company': 'Flannels', 'Location': 'Glasgow G34', 'Link': 'https://uk.indeed.com/viewjob?jk=6cb507636987a6da', 'Status': 'PostedPosted 30+ days ago', 'salary': '£25,250 - £35,000 a year', 'Description': 'Trend aware, fashion conscious and well presented at all times.'}, {'Title': 'Assistant Store Manager [Fendi Heathrow T4]', 'Company': 'Fendi', 'Location': 'London Heathrow Airport', 'Link': 'https://uk.indeed.com/viewjob?jk=e254c56f5fa494c7', 'Status': 'PostedPosted 4 days ago', 'salary': 'Not Declared', 'Description': 'Contribute to a \"top level\" customer service, in all aspects, in order to meet effectively and in a timely fashion any request of clientele.'}, {'Title': 'Assistant Manager, Gordon Street Coffee', 'Company': 'The Foundation Group (Glendola Leisure)', 'Location': 'Glasgow G1', 'Link': 'https://uk.indeed.com/viewjob?jk=37462b8b1beb1b87', 'Status': 'PostedPosted 3 days ago', 'salary': '£24,440 a year', 'Description': 'This is a full-time role, ideal for someone from a small batch background looking to develop their management skills, or alternatively someone from a volume…'}, {'Title': 'Assistant Manager, Cash Settlements & Confirmations, Markets...', 'Company': 'Lloyds Banking Group', 'Location': 'Hybrid remote in London', 'Link': 'https://uk.indeed.com/viewjob?jk=531dcc20cc7f4e22', 'Status': 'PostedPosted 12 days ago', 'salary': '£38,632 - £48,290 a year', 'Description': 'Ability to work accurately and efficiently across a wide range of currency timelines, both under own supervision and as part of a team.'}, {'Title': 'Assistant Manager', 'Company': 'Five Guys', 'Location': 'Edinburgh+48 locations', 'Link': 'https://uk.indeed.com/viewjob?jk=f786a26d3fed1958', 'Status': 'PostedPosted 6 days ago', 'salary': '£28,750 a year', 'Description': 'An achievable quarterly bonus scheme worth up to £6,000 a year.'}, {'Title': 'Assistant/Trainee Property Manager - Career opportunity', 'Company': 'Scottish Property Jobs', 'Location': 'Glasgow', 'Link': 'https://uk.indeed.com/viewjob?jk=1ae0e67091c5250e', 'Status': 'PostedPosted 9 days ago', 'salary': '£21,000 - £22,000 a year', 'Description': 'If you have good customer service skills, strong admin abilities and an interest in property then this is a fantastic opening with a well established company.'}, {'Title': 'Assistant Restaurant Manager', 'Company': \"Celino's Italian Glasgow\", 'Location': 'Glasgow G31', 'Link': 'https://uk.indeed.com/viewjob?jk=ec1e6b66f3f78dce', 'Status': 'PostedToday', 'salary': '£10 - £11 an hour', 'Description': 'The successful candidate will have experience in a similar role or if you are looking to progress into management full training will be given.'}, {'Title': 'Assistant Health Club Manager', 'Company': 'Hilton', 'Location': 'Glasgow G3', 'Link': 'https://uk.indeed.com/viewjob?jk=8a8c607fa5654ac7', 'Status': 'PostedPosted 2 days ago', 'salary': 'Up to £24,000 a year', 'Description': 'Smart uniform provided and laundered.'}, {'Title': 'Assistant Relationship Manager (12 months)', 'Company': 'RBS International', 'Location': 'Gibraltar+1 location', 'Link': 'https://uk.indeed.com/viewjob?jk=d75efe66ce204400', 'Status': 'PostedPosted 5 days ago', 'salary': 'Not Declared', 'Description': 'Supporting business connect managers to undertake customer risk assessments.'}, {'Title': 'Food & Beverage Assistant Manager', 'Company': 'Marriott International, Inc', 'Location': 'Glasgow G3', 'Link': 'https://uk.indeed.com/viewjob?jk=37329323f559be94', 'Status': 'PostedPosted 3 days ago', 'salary': 'Not Declared', 'Description': 'Ensure adherence to quality expectations and standards; and identify, recommend, develop, and implement new ways to increase organizational efficiency,…'}, {'Title': 'Assistant Restaurant Manager', 'Company': '1051 GWR Bar & Grill', 'Location': 'Glasgow G12', 'Link': 'https://uk.indeed.com/viewjob?jk=29f79202457f4262', 'Status': 'EmployerActive 2 days ago', 'salary': '£25,000 - £32,000 a year', 'Description': 'Salary between £25000-£32000 depending on experience.'}, {'Title': 'Assistant Brand Manager', 'Company': 'Carlsberg Marston’s Brewing Company', 'Location': 'Remote', 'Link': 'https://uk.indeed.com/viewjob?jk=42d9d0c233c71177', 'Status': 'PostedPosted 5 days ago', 'salary': 'Not Declared', 'Description': 'Deliver clear and focused plans that deliver ROI on above the line investment and below the line activation.'}, {'Title': 'Assistant Store Manager', 'Company': 'Michael Kors', 'Location': 'Glasgow+2 locations', 'Link': 'https://uk.indeed.com/viewjob?jk=b3299045b3af1f1a', 'Status': 'PostedPosted 12 days ago', 'salary': 'Not Declared', 'Description': '\\uf0b7 Maintain a keen interest in the fashion industry and market trends.'}, {'Title': 'Assistant Policy Manager', 'Company': 'Ofgem', 'Location': 'Glasgow G1+1 location', 'Link': 'https://uk.indeed.com/viewjob?jk=fae6d5ffcc33fffa', 'Status': 'PostedPosted 30+ days ago', 'salary': '£23,641 - £29,382 a year', 'Description': 'You’ll have excellent organisational and prioritisation skills, and the ability to manage your own workload.'}, {'Title': 'Assistant Manager', 'Company': 'skːn Clinics', 'Location': 'Glasgow G1+1 location', 'Link': 'https://uk.indeed.com/viewjob?jk=53765a97ac3ea646', 'Status': 'EmployerActive 8 days ago', 'salary': 'Up to £23,000 a year', 'Description': '48-50 Gordon St, Glasgow G1 3PU.'}, {'Title': 'Assistant Manager - Flannels', 'Company': 'Flannels', 'Location': 'Glasgow G34', 'Link': 'https://uk.indeed.com/viewjob?jk=6cb507636987a6da', 'Status': 'PostedPosted 30+ days ago', 'salary': '£25,250 - £35,000 a year', 'Description': 'Trend aware, fashion conscious and well presented at all times.'}, {'Title': 'Assistant Store Manager [Fendi Heathrow T4]', 'Company': 'Fendi', 'Location': 'London Heathrow Airport', 'Link': 'https://uk.indeed.com/viewjob?jk=e254c56f5fa494c7', 'Status': 'PostedPosted 4 days ago', 'salary': 'Not Declared', 'Description': 'Contribute to a \"top level\" customer service, in all aspects, in order to meet effectively and in a timely fashion any request of clientele.'}, {'Title': 'Assistant Manager, Gordon Street Coffee', 'Company': 'The Foundation Group (Glendola Leisure)', 'Location': 'Glasgow G1', 'Link': 'https://uk.indeed.com/viewjob?jk=37462b8b1beb1b87', 'Status': 'PostedPosted 3 days ago', 'salary': '£24,440 a year', 'Description': 'This is a full-time role, ideal for someone from a small batch background looking to develop their management skills, or alternatively someone from a volume…'}, {'Title': 'Assistant Manager, Cash Settlements & Confirmations, Markets...', 'Company': 'Lloyds Banking Group', 'Location': 'Hybrid remote in London', 'Link': 'https://uk.indeed.com/viewjob?jk=531dcc20cc7f4e22', 'Status': 'PostedPosted 12 days ago', 'salary': '£38,632 - £48,290 a year', 'Description': 'Ability to work accurately and efficiently across a wide range of currency timelines, both under own supervision and as part of a team.'}, {'Title': 'Assistant Manager', 'Company': 'Five Guys', 'Location': 'Edinburgh+48 locations', 'Link': 'https://uk.indeed.com/viewjob?jk=f786a26d3fed1958', 'Status': 'PostedPosted 6 days ago', 'salary': '£28,750 a year', 'Description': 'An achievable quarterly bonus scheme worth up to £6,000 a year.'}, {'Title': 'Assistant/Trainee Property Manager - Career opportunity', 'Company': 'Scottish Property Jobs', 'Location': 'Glasgow', 'Link': 'https://uk.indeed.com/viewjob?jk=1ae0e67091c5250e', 'Status': 'PostedPosted 9 days ago', 'salary': '£21,000 - £22,000 a year', 'Description': 'If you have good customer service skills, strong admin abilities and an interest in property then this is a fantastic opening with a well established company.'}, {'Title': 'Trainee Assistant Site Manager', 'Company': 'Taylor Wimpey', 'Location': 'Borehamwood+1 location', 'Link': 'https://uk.indeed.com/viewjob?jk=febea7a1f53c20c8', 'Status': 'Posted9 days ago', 'salary': 'Not Declared', 'Description': 'We integrate sustainability into the design and construction of our homes and developments and are working towards our target to reduce carbon emissions from…'}, {'Title': 'Assistant Manager', 'Company': 'German Doner Kebab Glasgow', 'Location': 'Glasgow G2', 'Link': 'https://uk.indeed.com/viewjob?jk=ae608027da7e83fd', 'Status': 'Posted1 day ago', 'salary': '£25,000 a year', 'Description': 'Maintaining a strong brand image and service standards including uniform/presentation standards and customer service.'}, {'Title': 'Assistant Health Club Manager', 'Company': 'Hilton', 'Location': 'Glasgow G3', 'Link': 'https://uk.indeed.com/viewjob?jk=8a8c607fa5654ac7', 'Status': 'Posted2 days ago', 'salary': 'Up to £24,000 a year', 'Description': 'Smart uniform provided and laundered.'}, {'Title': 'Assistant Relationship Manager (12 months)', 'Company': 'RBS International', 'Location': 'Gibraltar+1 location', 'Link': 'https://uk.indeed.com/viewjob?jk=d75efe66ce204400', 'Status': 'Posted5 days ago', 'salary': 'Not Declared', 'Description': 'Supporting business connect managers to undertake customer risk assessments.'}, {'Title': 'Food & Beverage Assistant Manager', 'Company': 'Marriott International, Inc', 'Location': 'Glasgow G3', 'Link': 'https://uk.indeed.com/viewjob?jk=37329323f559be94', 'Status': 'Posted3 days ago', 'salary': 'Not Declared', 'Description': 'Ensure adherence to quality expectations and standards; and identify, recommend, develop, and implement new ways to increase organizational efficiency,…'}, {'Title': 'Assistant Brand Manager', 'Company': 'Carlsberg Marston’s Brewing Company', 'Location': 'Remote', 'Link': 'https://uk.indeed.com/viewjob?jk=42d9d0c233c71177', 'Status': 'Posted5 days ago', 'salary': 'Not Declared', 'Description': 'Deliver clear and focused plans that deliver ROI on above the line investment and below the line activation.'}, {'Title': 'Assistant Store Manager', 'Company': 'Michael Kors', 'Location': 'Glasgow+2 locations', 'Link': 'https://uk.indeed.com/viewjob?jk=b3299045b3af1f1a', 'Status': 'Posted12 days ago', 'salary': 'Not Declared', 'Description': '\\uf0b7 Maintain a keen interest in the fashion industry and market trends.'}, {'Title': 'Assistant Policy Manager', 'Company': 'Ofgem', 'Location': 'Glasgow G1+1 location', 'Link': 'https://uk.indeed.com/viewjob?jk=fae6d5ffcc33fffa', 'Status': 'Posted30+ days ago', 'salary': '£23,641 - £29,382 a year', 'Description': 'You’ll have excellent organisational and prioritisation skills, and the ability to manage your own workload.'}, {'Title': 'Assistant Manager - Flannels', 'Company': 'Flannels', 'Location': 'Glasgow G34', 'Link': 'https://uk.indeed.com/viewjob?jk=6cb507636987a6da', 'Status': 'Posted30+ days ago', 'salary': '£25,250 - £35,000 a year', 'Description': 'Trend aware, fashion conscious and well presented at all times.'}, {'Title': 'Assistant Store Manager [Fendi Heathrow T4]', 'Company': 'Fendi', 'Location': 'London Heathrow Airport', 'Link': 'https://uk.indeed.com/viewjob?jk=e254c56f5fa494c7', 'Status': 'Posted4 days ago', 'salary': 'Not Declared', 'Description': 'Contribute to a \"top level\" customer service, in all aspects, in order to meet effectively and in a timely fashion any request of clientele.'}, {'Title': 'Assistant Manager, Gordon Street Coffee', 'Company': 'The Foundation Group (Glendola Leisure)', 'Location': 'Glasgow G1', 'Link': 'https://uk.indeed.com/viewjob?jk=37462b8b1beb1b87', 'Status': 'Posted3 days ago', 'salary': '£24,440 a year', 'Description': 'This is a full-time role, ideal for someone from a small batch background looking to develop their management skills, or alternatively someone from a volume…'}, {'Title': 'Assistant Manager, Cash Settlements & Confirmations, Markets...', 'Company': 'Lloyds Banking Group', 'Location': 'Hybrid remote in London', 'Link': 'https://uk.indeed.com/viewjob?jk=531dcc20cc7f4e22', 'Status': 'Posted12 days ago', 'salary': '£38,632 - £48,290 a year', 'Description': 'Ability to work accurately and efficiently across a wide range of currency timelines, both under own supervision and as part of a team.'}, {'Title': 'Assistant Manager', 'Company': 'Clockwise', 'Location': 'Glasgow G2', 'Link': 'https://uk.indeed.com/viewjob?jk=ca32562adac7ad12', 'Status': 'Posted13 days ago', 'salary': 'Up to £27,000 a year', 'Description': 'IT literacy the ability to use Windows based tools, word, windows and excel.'}, {'Title': 'Assistant Manager', 'Company': 'Three Craws', 'Location': 'Glasgow G11', 'Link': 'https://uk.indeed.com/viewjob?jk=16767a4d98d39d8a', 'Status': 'Posted4 days ago', 'salary': 'Not Declared', 'Description': 'Be a champion of brand standards & ensure guest & team safety at all times.'}, {'Title': 'Assistant Manager', 'Company': 'Spark of Genius', 'Location': 'Mauchline KA5+1 location', 'Link': 'https://uk.indeed.com/viewjob?jk=5168d9ef7b4fd08a', 'Status': 'Posted30+ days ago', 'salary': '£32,670 - £35,220 a year', 'Description': 'Job Type: Full Time, Permanent.'}, {'Title': 'Assistant Manager', 'Company': 'Five Guys', 'Location': 'Edinburgh+48 locations', 'Link': 'https://uk.indeed.com/viewjob?jk=f786a26d3fed1958', 'Status': 'PostedPosted 6 days ago', 'salary': '£28,750 a year', 'Description': 'An achievable quarterly bonus scheme worth up to £6,000 a year.'}, {'Title': 'Trainee Assistant Site Manager', 'Company': 'Taylor Wimpey', 'Location': 'Borehamwood+1 location', 'Link': 'https://uk.indeed.com/viewjob?jk=febea7a1f53c20c8', 'Status': 'PostedPosted 9 days ago', 'salary': 'Not Declared', 'Description': 'We integrate sustainability into the design and construction of our homes and developments and are working towards our target to reduce carbon emissions from…'}, {'Title': 'Assistant/Trainee Property Manager - Career opportunity', 'Company': 'Scottish Property Jobs', 'Location': 'Glasgow', 'Link': 'https://uk.indeed.com/viewjob?jk=1ae0e67091c5250e', 'Status': 'PostedPosted 9 days ago', 'salary': '£21,000 - £22,000 a year', 'Description': 'If you have good customer service skills, strong admin abilities and an interest in property then this is a fantastic opening with a well established company.'}, {'Title': 'Assistant Manager', 'Company': 'German Doner Kebab Glasgow', 'Location': 'Glasgow G2', 'Link': 'https://uk.indeed.com/viewjob?jk=ae608027da7e83fd', 'Status': 'PostedPosted 1 day ago', 'salary': '£25,000 a year', 'Description': 'Maintaining a strong brand image and service standards including uniform/presentation standards and customer service.'}, {'Title': 'Assistant Health Club Manager', 'Company': 'Hilton', 'Location': 'Glasgow G3', 'Link': 'https://uk.indeed.com/viewjob?jk=8a8c607fa5654ac7', 'Status': 'PostedPosted 2 days ago', 'salary': 'Up to £24,000 a year', 'Description': 'Smart uniform provided and laundered.'}, {'Title': 'Assistant Relationship Manager (12 months)', 'Company': 'RBS International', 'Location': 'Gibraltar+1 location', 'Link': 'https://uk.indeed.com/viewjob?jk=d75efe66ce204400', 'Status': 'PostedPosted 5 days ago', 'salary': 'Not Declared', 'Description': 'Supporting business connect managers to undertake customer risk assessments.'}, {'Title': 'Food & Beverage Assistant Manager', 'Company': 'Marriott International, Inc', 'Location': 'Glasgow G3', 'Link': 'https://uk.indeed.com/viewjob?jk=37329323f559be94', 'Status': 'PostedPosted 3 days ago', 'salary': 'Not Declared', 'Description': 'Ensure adherence to quality expectations and standards; and identify, recommend, develop, and implement new ways to increase organizational efficiency,…'}, {'Title': 'Assistant Manager', 'Company': 'Old Plane Tree (92260)', 'Location': 'Glasgow', 'Link': 'https://uk.indeed.com/viewjob?jk=a515e0278446c6c6', 'Status': 'PostedPosted 4 days ago', 'salary': 'Up to £12 an hour', 'Description': 'Inspire and motivate your colleagues on every shift.'}, {'Title': 'Assistant Brand Manager', 'Company': 'Carlsberg Marston’s Brewing Company', 'Location': 'Remote', 'Link': 'https://uk.indeed.com/viewjob?jk=42d9d0c233c71177', 'Status': 'PostedPosted 5 days ago', 'salary': 'Not Declared', 'Description': 'Deliver clear and focused plans that deliver ROI on above the line investment and below the line activation.'}, {'Title': 'Assistant Store Manager', 'Company': 'Michael Kors', 'Location': 'Glasgow+2 locations', 'Link': 'https://uk.indeed.com/viewjob?jk=b3299045b3af1f1a', 'Status': 'PostedPosted 12 days ago', 'salary': 'Not Declared', 'Description': '\\uf0b7 Maintain a keen interest in the fashion industry and market trends.'}, {'Title': 'Assistant Policy Manager', 'Company': 'Ofgem', 'Location': 'Glasgow G1+1 location', 'Link': 'https://uk.indeed.com/viewjob?jk=fae6d5ffcc33fffa', 'Status': 'PostedPosted 30+ days ago', 'salary': '£23,641 - £29,382 a year', 'Description': 'You’ll have excellent organisational and prioritisation skills, and the ability to manage your own workload.'}, {'Title': 'Assistant Manager - Flannels', 'Company': 'Flannels', 'Location': 'Glasgow G34', 'Link': 'https://uk.indeed.com/viewjob?jk=6cb507636987a6da', 'Status': 'PostedPosted 30+ days ago', 'salary': '£25,250 - £35,000 a year', 'Description': 'Trend aware, fashion conscious and well presented at all times.'}, {'Title': 'Assistant Store Manager [Fendi Heathrow T4]', 'Company': 'Fendi', 'Location': 'London Heathrow Airport', 'Link': 'https://uk.indeed.com/viewjob?jk=e254c56f5fa494c7', 'Status': 'PostedPosted 4 days ago', 'salary': 'Not Declared', 'Description': 'Contribute to a \"top level\" customer service, in all aspects, in order to meet effectively and in a timely fashion any request of clientele.'}, {'Title': 'Assistant Manager, Gordon Street Coffee', 'Company': 'The Foundation Group (Glendola Leisure)', 'Location': 'Glasgow G1', 'Link': 'https://uk.indeed.com/viewjob?jk=37462b8b1beb1b87', 'Status': 'PostedPosted 3 days ago', 'salary': '£24,440 a year', 'Description': 'This is a full-time role, ideal for someone from a small batch background looking to develop their management skills, or alternatively someone from a volume…'}, {'Title': 'Assistant Manager, Cash Settlements & Confirmations, Markets...', 'Company': 'Lloyds Banking Group', 'Location': 'Hybrid remote in London', 'Link': 'https://uk.indeed.com/viewjob?jk=531dcc20cc7f4e22', 'Status': 'PostedPosted 12 days ago', 'salary': '£38,632 - £48,290 a year', 'Description': 'Ability to work accurately and efficiently across a wide range of currency timelines, both under own supervision and as part of a team.'}, {'Title': 'Trainee Assistant Site Manager', 'Company': 'Taylor Wimpey', 'Location': 'Borehamwood+1 location', 'Link': 'https://uk.indeed.com/viewjob?jk=febea7a1f53c20c8', 'Status': 'Posted9 days ago', 'salary': 'Not Declared', 'Description': 'We integrate sustainability into the design and construction of our homes and developments and are working towards our target to reduce carbon emissions from…'}, {'Title': 'Assistant Manager', 'Company': 'German Doner Kebab Glasgow', 'Location': 'Glasgow G2', 'Link': 'https://uk.indeed.com/viewjob?jk=ae608027da7e83fd', 'Status': 'Posted1 day ago', 'salary': '£25,000 a year', 'Description': 'Maintaining a strong brand image and service standards including uniform/presentation standards and customer service.'}, {'Title': 'Assistant Health Club Manager', 'Company': 'Hilton', 'Location': 'Glasgow G3', 'Link': 'https://uk.indeed.com/viewjob?jk=8a8c607fa5654ac7', 'Status': 'Posted2 days ago', 'salary': 'Up to £24,000 a year', 'Description': 'Smart uniform provided and laundered.'}, {'Title': 'Assistant Relationship Manager (12 months)', 'Company': 'RBS International', 'Location': 'Gibraltar+1 location', 'Link': 'https://uk.indeed.com/viewjob?jk=d75efe66ce204400', 'Status': 'Posted5 days ago', 'salary': 'Not Declared', 'Description': 'Supporting business connect managers to undertake customer risk assessments.'}, {'Title': 'Assistant/Trainee Property Manager - Career opportunity', 'Company': 'Scottish Property Jobs', 'Location': 'Glasgow', 'Link': 'https://uk.indeed.com/viewjob?jk=1ae0e67091c5250e', 'Status': 'Posted9 days ago', 'salary': '£21,000 - £22,000 a year', 'Description': 'If you have good customer service skills, strong admin abilities and an interest in property then this is a fantastic opening with a well established company.'}, {'Title': 'Food & Beverage Assistant Manager', 'Company': 'Marriott International, Inc', 'Location': 'Glasgow G3', 'Link': 'https://uk.indeed.com/viewjob?jk=37329323f559be94', 'Status': 'Posted3 days ago', 'salary': 'Not Declared', 'Description': 'Ensure adherence to quality expectations and standards; and identify, recommend, develop, and implement new ways to increase organizational efficiency,…'}, {'Title': 'Assistant Brand Manager', 'Company': 'Carlsberg Marston’s Brewing Company', 'Location': 'Remote', 'Link': 'https://uk.indeed.com/viewjob?jk=42d9d0c233c71177', 'Status': 'Posted5 days ago', 'salary': 'Not Declared', 'Description': 'Deliver clear and focused plans that deliver ROI on above the line investment and below the line activation.'}, {'Title': 'Assistant Store Manager', 'Company': 'Michael Kors', 'Location': 'Glasgow+2 locations', 'Link': 'https://uk.indeed.com/viewjob?jk=b3299045b3af1f1a', 'Status': 'Posted12 days ago', 'salary': 'Not Declared', 'Description': '\\uf0b7 Maintain a keen interest in the fashion industry and market trends.'}, {'Title': 'Assistant Policy Manager', 'Company': 'Ofgem', 'Location': 'Glasgow G1+1 location', 'Link': 'https://uk.indeed.com/viewjob?jk=fae6d5ffcc33fffa', 'Status': 'Posted30+ days ago', 'salary': '£23,641 - £29,382 a year', 'Description': 'You’ll have excellent organisational and prioritisation skills, and the ability to manage your own workload.'}, {'Title': 'Assistant Manager - Flannels', 'Company': 'Flannels', 'Location': 'Glasgow G34', 'Link': 'https://uk.indeed.com/viewjob?jk=6cb507636987a6da', 'Status': 'Posted30+ days ago', 'salary': '£25,250 - £35,000 a year', 'Description': 'Trend aware, fashion conscious and well presented at all times.'}, {'Title': 'Assistant Store Manager [Fendi Heathrow T4]', 'Company': 'Fendi', 'Location': 'London Heathrow Airport', 'Link': 'https://uk.indeed.com/viewjob?jk=e254c56f5fa494c7', 'Status': 'Posted4 days ago', 'salary': 'Not Declared', 'Description': 'Contribute to a \"top level\" customer service, in all aspects, in order to meet effectively and in a timely fashion any request of clientele.'}, {'Title': 'Assistant Manager, Gordon Street Coffee', 'Company': 'The Foundation Group (Glendola Leisure)', 'Location': 'Glasgow G1', 'Link': 'https://uk.indeed.com/viewjob?jk=37462b8b1beb1b87', 'Status': 'Posted3 days ago', 'salary': '£24,440 a year', 'Description': 'This is a full-time role, ideal for someone from a small batch background looking to develop their management skills, or alternatively someone from a volume…'}, {'Title': 'Assistant Manager, Cash Settlements & Confirmations, Markets...', 'Company': 'Lloyds Banking Group', 'Location': 'Hybrid remote in London', 'Link': 'https://uk.indeed.com/viewjob?jk=531dcc20cc7f4e22', 'Status': 'Posted12 days ago', 'salary': '£38,632 - £48,290 a year', 'Description': 'Ability to work accurately and efficiently across a wide range of currency timelines, both under own supervision and as part of a team.'}, {'Title': 'Assistant Manager - Operations', 'Company': 'OSC Recruitment', 'Location': 'Knightsbridge', 'Link': 'https://uk.indeed.com/viewjob?jk=939bc53003a9826a', 'Status': 'EmployerActive 2 days ago', 'salary': 'Up to £32,000 a year', 'Description': 'To be considered for this operations assistant / manager position you are required to have proven experience and responsibility for the production,…'}, {'Title': 'Assistant Manager', 'Company': 'Old Plane Tree (92260)', 'Location': 'Glasgow', 'Link': 'https://uk.indeed.com/viewjob?jk=a515e0278446c6c6', 'Status': 'Posted4 days ago', 'salary': 'Up to £12 an hour', 'Description': 'Inspire and motivate your colleagues on every shift.'}, {'Title': 'Assistant Health Club Manager', 'Company': 'Hilton', 'Location': 'Glasgow G3', 'Link': 'https://uk.indeed.com/viewjob?jk=8a8c607fa5654ac7', 'Status': 'Posted2 days ago', 'salary': 'Up to £24,000 a year', 'Description': 'Not Found'}, {'Title': 'Assistant Manager, Gordon Street Coffee', 'Company': 'The Foundation Group (Glendola Leisure)', 'Location': 'Glasgow G1', 'Link': 'https://uk.indeed.com/viewjob?jk=37462b8b1beb1b87', 'Status': 'Posted3 days ago', 'salary': '£24,440 a year', 'Description': 'Not Found'}, {'Title': 'Assistant Relationship Manager (12 months)', 'Company': 'RBS International', 'Location': 'Gibraltar+1 location', 'Link': 'https://uk.indeed.com/viewjob?jk=d75efe66ce204400', 'Status': 'Posted5 days ago', 'salary': 'Not Declared', 'Description': 'Not Found'}, {'Title': 'Assistant Store Manager - Braehead', 'Company': 'Footasylum', 'Location': 'Glasgow G51', 'Link': 'https://uk.indeed.com/viewjob?jk=e4977bf64cf85fab', 'Status': 'Posted30+ days ago', 'salary': 'Not Declared', 'Description': 'Not Found'}, {'Title': 'Assistant/Trainee Property Manager - Career opportunity', 'Company': 'Scottish Property Jobs', 'Location': 'Glasgow', 'Link': 'https://uk.indeed.com/viewjob?jk=1ae0e67091c5250e', 'Status': 'Posted9 days ago', 'salary': '£21,000 - £22,000 a year', 'Description': 'Driving Licence'}, {'Title': 'Assistant Manager', 'Company': 'German Doner Kebab Glasgow', 'Location': 'Glasgow G2', 'Link': 'https://uk.indeed.com/viewjob?jk=ae608027da7e83fd', 'Status': 'Posted1 day ago', 'salary': '£25,000 a year', 'Description': 'Not Found'}, {'Title': 'Assistant Policy Manager', 'Company': 'Ofgem', 'Location': 'Glasgow G1+1 location', 'Link': 'https://uk.indeed.com/viewjob?jk=fae6d5ffcc33fffa', 'Status': 'Posted30+ days ago', 'salary': '£23,641 - £29,382 a year', 'Description': 'Not Found'}, {'Title': 'Prada - Assistant Store Manager', 'Company': 'Prada', 'Location': 'London', 'Link': 'https://uk.indeed.com/viewjob?jk=6680a8297ab0cd97', 'Status': 'Posted30+ days ago', 'salary': 'Not Declared', 'Description': 'Not Found'}, {'Title': 'Assistant Store Manager - Frasers', 'Company': 'Frasers', 'Location': 'Glasgow G1', 'Link': 'https://uk.indeed.com/viewjob?jk=1eb97122b09c8b68', 'Status': 'Posted30+ days ago', 'salary': '£34,750 a year', 'Description': 'Not Found'}, {'Title': 'Assistant Manager - Glasgow St Enoch', 'Company': 'Pandora Jewelry', 'Location': 'Glasgow+8 locations', 'Link': 'https://uk.indeed.com/viewjob?jk=7b618415b078214b', 'Status': 'Posted13 days ago', 'salary': 'Not Declared', 'Description': 'Not Found'}, {'Title': 'Assistant Project Manager', 'Company': 'SSE', 'Location': '+4 locationsRemote', 'Link': 'https://uk.indeed.com/viewjob?jk=fc5f2b2e3c70632e', 'Status': 'Posted12 days ago', 'salary': '£32,600 - £48,800 a year', 'Description': 'Not Found'}, {'Title': 'Assistant Manager', 'Company': 'Spark of Genius', 'Location': 'Mauchline KA5+1 location', 'Link': 'https://uk.indeed.com/viewjob?jk=5168d9ef7b4fd08a', 'Status': 'Posted30+ days ago', 'salary': '£32,670 - £35,220 a year', 'Description': 'Not Found'}, {'Title': 'Trainee Assistant Site Manager', 'Company': 'Taylor Wimpey', 'Location': 'Borehamwood+1 location', 'Link': 'https://uk.indeed.com/viewjob?jk=febea7a1f53c20c8', 'Status': 'Posted9 days ago', 'salary': 'Not Declared', 'Description': 'Driving Licence'}, {'Title': 'Assistant Manager', 'Company': 'Clockwise', 'Location': 'Glasgow G2', 'Link': 'https://uk.indeed.com/viewjob?jk=ca32562adac7ad12', 'Status': 'Posted13 days ago', 'salary': 'Up to £27,000 a year', 'Description': 'Not Found'}, {'Title': 'Assistant Restaurant Manager', 'Company': 'Prezzo Glasgow 2', 'Location': 'Glasgow G1+5 locations', 'Link': 'https://uk.indeed.com/viewjob?jk=c71dd44dfb28866c', 'Status': 'Posted1 day ago', 'salary': 'Not Declared', 'Description': 'Not Found'}, {'Title': 'Assistant Restaurant Manager', 'Company': \"Celino's Italian Glasgow\", 'Location': 'Glasgow G31', 'Link': 'https://uk.indeed.com/viewjob?jk=ec1e6b66f3f78dce', 'Status': 'PostedToday', 'salary': '£10 - £11 an hour', 'Description': 'The successful candidate will have experience in a similar role or if you are looking to progress into management full training will be given.'}, {'Title': 'Assistant Health Club Manager', 'Company': 'Hilton', 'Location': 'Glasgow G3', 'Link': 'https://uk.indeed.com/viewjob?jk=8a8c607fa5654ac7', 'Status': 'Posted2 days ago', 'salary': 'Up to £24,000 a year', 'Description': 'Smart uniform provided and laundered.'}, {'Title': 'Assistant Relationship Manager (12 months)', 'Company': 'RBS International', 'Location': 'Gibraltar+1 location', 'Link': 'https://uk.indeed.com/viewjob?jk=d75efe66ce204400', 'Status': 'Posted5 days ago', 'salary': 'Not Declared', 'Description': 'Supporting business connect managers to undertake customer risk assessments.'}, {'Title': 'Food & Beverage Assistant Manager', 'Company': 'Marriott International, Inc', 'Location': 'Glasgow G3', 'Link': 'https://uk.indeed.com/viewjob?jk=37329323f559be94', 'Status': 'Posted3 days ago', 'salary': 'Not Declared', 'Description': 'Ensure adherence to quality expectations and standards; and identify, recommend, develop, and implement new ways to increase organizational efficiency,…'}, {'Title': 'Assistant Restaurant Manager', 'Company': '1051 GWR Bar & Grill', 'Location': 'Glasgow G12', 'Link': 'https://uk.indeed.com/viewjob?jk=29f79202457f4262', 'Status': 'EmployerActive 2 days ago', 'salary': '£25,000 - £32,000 a year', 'Description': 'Salary between £25000-£32000 depending on experience.'}, {'Title': 'Assistant Brand Manager', 'Company': 'Carlsberg Marston’s Brewing Company', 'Location': 'Remote', 'Link': 'https://uk.indeed.com/viewjob?jk=42d9d0c233c71177', 'Status': 'Posted5 days ago', 'salary': 'Not Declared', 'Description': 'Deliver clear and focused plans that deliver ROI on above the line investment and below the line activation.'}, {'Title': 'Assistant Store Manager', 'Company': 'Michael Kors', 'Location': 'Glasgow+2 locations', 'Link': 'https://uk.indeed.com/viewjob?jk=b3299045b3af1f1a', 'Status': 'Posted12 days ago', 'salary': 'Not Declared', 'Description': '\\uf0b7 Maintain a keen interest in the fashion industry and market trends.'}, {'Title': 'Assistant Policy Manager', 'Company': 'Ofgem', 'Location': 'Glasgow G1+1 location', 'Link': 'https://uk.indeed.com/viewjob?jk=fae6d5ffcc33fffa', 'Status': 'Posted30+ days ago', 'salary': '£23,641 - £29,382 a year', 'Description': 'You’ll have excellent organisational and prioritisation skills, and the ability to manage your own workload.'}, {'Title': 'Assistant Manager', 'Company': 'skːn Clinics', 'Location': 'Glasgow G1+1 location', 'Link': 'https://uk.indeed.com/viewjob?jk=53765a97ac3ea646', 'Status': 'EmployerActive 8 days ago', 'salary': 'Up to £23,000 a year', 'Description': '48-50 Gordon St, Glasgow G1 3PU.'}, {'Title': 'Assistant Manager - Flannels', 'Company': 'Flannels', 'Location': 'Glasgow G34', 'Link': 'https://uk.indeed.com/viewjob?jk=6cb507636987a6da', 'Status': 'Posted30+ days ago', 'salary': '£25,250 - £35,000 a year', 'Description': 'Trend aware, fashion conscious and well presented at all times.'}, {'Title': 'Assistant Store Manager [Fendi Heathrow T4]', 'Company': 'Fendi', 'Location': 'London Heathrow Airport', 'Link': 'https://uk.indeed.com/viewjob?jk=e254c56f5fa494c7', 'Status': 'Posted4 days ago', 'salary': 'Not Declared', 'Description': 'Contribute to a \"top level\" customer service, in all aspects, in order to meet effectively and in a timely fashion any request of clientele.'}, {'Title': 'Assistant Manager, Gordon Street Coffee', 'Company': 'The Foundation Group (Glendola Leisure)', 'Location': 'Glasgow G1', 'Link': 'https://uk.indeed.com/viewjob?jk=37462b8b1beb1b87', 'Status': 'Posted3 days ago', 'salary': '£24,440 a year', 'Description': 'This is a full-time role, ideal for someone from a small batch background looking to develop their management skills, or alternatively someone from a volume…'}, {'Title': 'Assistant Manager, Cash Settlements & Confirmations, Markets...', 'Company': 'Lloyds Banking Group', 'Location': 'Hybrid remote in London', 'Link': 'https://uk.indeed.com/viewjob?jk=531dcc20cc7f4e22', 'Status': 'Posted12 days ago', 'salary': '£38,632 - £48,290 a year', 'Description': 'Ability to work accurately and efficiently across a wide range of currency timelines, both under own supervision and as part of a team.'}, {'Title': 'Assistant Manager', 'Company': 'Five Guys', 'Location': 'Edinburgh+48 locations', 'Link': 'https://uk.indeed.com/viewjob?jk=f786a26d3fed1958', 'Status': 'Posted6 days ago', 'salary': '£28,750 a year', 'Description': 'An achievable quarterly bonus scheme worth up to £6,000 a year.'}, {'Title': 'Assistant/Trainee Property Manager - Career opportunity', 'Company': 'Scottish Property Jobs', 'Location': 'Glasgow', 'Link': 'https://uk.indeed.com/viewjob?jk=1ae0e67091c5250e', 'Status': 'Posted9 days ago', 'salary': '£21,000 - £22,000 a year', 'Description': 'If you have good customer service skills, strong admin abilities and an interest in property then this is a fantastic opening with a well established company.'}, {'Title': 'Assistant Manager', 'Company': 'skːn Clinics', 'Location': 'Glasgow G1+1 location', 'Link': 'https://uk.indeed.com/viewjob?jk=53765a97ac3ea646', 'Status': 'EmployerActive 8 days ago', 'salary': 'Up to £23,000 a year', 'Description': '48-50 Gordon St, Glasgow G1 3PU.'}, {'Title': 'Trainee Assistant Site Manager', 'Company': 'Taylor Wimpey', 'Location': 'Borehamwood+1 location', 'Link': 'https://uk.indeed.com/viewjob?jk=febea7a1f53c20c8', 'Status': 'PostedPosted 9 days ago', 'salary': 'Not Declared', 'Description': 'We integrate sustainability into the design and construction of our homes and developments and are working towards our target to reduce carbon emissions from…'}, {'Title': 'Assistant/Trainee Property Manager - Career opportunity', 'Company': 'Scottish Property Jobs', 'Location': 'Glasgow', 'Link': 'https://uk.indeed.com/viewjob?jk=1ae0e67091c5250e', 'Status': 'PostedPosted 9 days ago', 'salary': '£21,000 - £22,000 a year', 'Description': 'If you have good customer service skills, strong admin abilities and an interest in property then this is a fantastic opening with a well established company.'}, {'Title': 'Assistant Manager', 'Company': 'German Doner Kebab Glasgow', 'Location': 'Glasgow G2', 'Link': 'https://uk.indeed.com/viewjob?jk=ae608027da7e83fd', 'Status': 'PostedPosted 1 day ago', 'salary': '£25,000 a year', 'Description': 'Maintaining a strong brand image and service standards including uniform/presentation standards and customer service.'}, {'Title': 'Assistant Health Club Manager', 'Company': 'Hilton', 'Location': 'Glasgow G3', 'Link': 'https://uk.indeed.com/viewjob?jk=8a8c607fa5654ac7', 'Status': 'PostedPosted 2 days ago', 'salary': 'Up to £24,000 a year', 'Description': 'Smart uniform provided and laundered.'}, {'Title': 'Assistant Relationship Manager (12 months)', 'Company': 'RBS International', 'Location': 'Gibraltar+1 location', 'Link': 'https://uk.indeed.com/viewjob?jk=d75efe66ce204400', 'Status': 'PostedPosted 5 days ago', 'salary': 'Not Declared', 'Description': 'Supporting business connect managers to undertake customer risk assessments.'}, {'Title': 'Food & Beverage Assistant Manager', 'Company': 'Marriott International, Inc', 'Location': 'Glasgow G3', 'Link': 'https://uk.indeed.com/viewjob?jk=37329323f559be94', 'Status': 'PostedPosted 3 days ago', 'salary': 'Not Declared', 'Description': 'Ensure adherence to quality expectations and standards; and identify, recommend, develop, and implement new ways to increase organizational efficiency,…'}, {'Title': 'Hotel Assistant Manager Live In Available', 'Company': 'Appleby Manor country house hotel', 'Location': 'Appleby-In-Westmorland CA16', 'Link': 'https://uk.indeed.com/viewjob?jk=81a69de511807f08', 'Status': 'EmployerActive 3 days ago', 'salary': 'Up to £28,500 a year', 'Description': 'Must be an outgoing and friendly person with good communication skills, able to work on own initiative and as part of a team.'}, {'Title': 'Assistant Manager', 'Company': 'Old Plane Tree (92260)', 'Location': 'Glasgow', 'Link': 'https://uk.indeed.com/viewjob?jk=a515e0278446c6c6', 'Status': 'PostedPosted 4 days ago', 'salary': 'Up to £12 an hour', 'Description': 'Inspire and motivate your colleagues on every shift.'}, {'Title': 'Assistant Brand Manager', 'Company': 'Carlsberg Marston’s Brewing Company', 'Location': 'Remote', 'Link': 'https://uk.indeed.com/viewjob?jk=42d9d0c233c71177', 'Status': 'PostedPosted 5 days ago', 'salary': 'Not Declared', 'Description': 'Deliver clear and focused plans that deliver ROI on above the line investment and below the line activation.'}, {'Title': 'Assistant Store Manager', 'Company': 'Michael Kors', 'Location': 'Glasgow+2 locations', 'Link': 'https://uk.indeed.com/viewjob?jk=b3299045b3af1f1a', 'Status': 'PostedPosted 12 days ago', 'salary': 'Not Declared', 'Description': '\\uf0b7 Maintain a keen interest in the fashion industry and market trends.'}, {'Title': 'Assistant Policy Manager', 'Company': 'Ofgem', 'Location': 'Glasgow G1+1 location', 'Link': 'https://uk.indeed.com/viewjob?jk=fae6d5ffcc33fffa', 'Status': 'PostedPosted 30+ days ago', 'salary': '£23,641 - £29,382 a year', 'Description': 'You’ll have excellent organisational and prioritisation skills, and the ability to manage your own workload.'}, {'Title': 'Assistant Manager - Flannels', 'Company': 'Flannels', 'Location': 'Glasgow G34', 'Link': 'https://uk.indeed.com/viewjob?jk=6cb507636987a6da', 'Status': 'PostedPosted 30+ days ago', 'salary': '£25,250 - £35,000 a year', 'Description': 'Trend aware, fashion conscious and well presented at all times.'}, {'Title': 'Assistant Store Manager [Fendi Heathrow T4]', 'Company': 'Fendi', 'Location': 'London Heathrow Airport', 'Link': 'https://uk.indeed.com/viewjob?jk=e254c56f5fa494c7', 'Status': 'PostedPosted 4 days ago', 'salary': 'Not Declared', 'Description': 'Contribute to a \"top level\" customer service, in all aspects, in order to meet effectively and in a timely fashion any request of clientele.'}, {'Title': 'Assistant Manager, Gordon Street Coffee', 'Company': 'The Foundation Group (Glendola Leisure)', 'Location': 'Glasgow G1', 'Link': 'https://uk.indeed.com/viewjob?jk=37462b8b1beb1b87', 'Status': 'PostedPosted 3 days ago', 'salary': '£24,440 a year', 'Description': 'This is a full-time role, ideal for someone from a small batch background looking to develop their management skills, or alternatively someone from a volume…'}, {'Title': 'Assistant Restaurant Manager', 'Company': \"Celino's Italian Glasgow\", 'Location': 'Glasgow G31', 'Link': 'https://uk.indeed.com/viewjob?jk=ec1e6b66f3f78dce', 'Status': 'PostedToday', 'salary': '£10 - £11 an hour', 'Description': 'The successful candidate will have experience in a similar role or if you are looking to progress into management full training will be given.'}, {'Title': 'Assistant Health Club Manager', 'Company': 'Hilton', 'Location': 'Glasgow G3', 'Link': 'https://uk.indeed.com/viewjob?jk=8a8c607fa5654ac7', 'Status': 'PostedPosted 2 days ago', 'salary': 'Up to £24,000 a year', 'Description': 'Smart uniform provided and laundered.'}, {'Title': 'Assistant Relationship Manager (12 months)', 'Company': 'RBS International', 'Location': 'Gibraltar+1 location', 'Link': 'https://uk.indeed.com/viewjob?jk=d75efe66ce204400', 'Status': 'PostedPosted 5 days ago', 'salary': 'Not Declared', 'Description': 'Supporting business connect managers to undertake customer risk assessments.'}, {'Title': 'Food & Beverage Assistant Manager', 'Company': 'Marriott International, Inc', 'Location': 'Glasgow G3', 'Link': 'https://uk.indeed.com/viewjob?jk=37329323f559be94', 'Status': 'PostedPosted 3 days ago', 'salary': 'Not Declared', 'Description': 'Ensure adherence to quality expectations and standards; and identify, recommend, develop, and implement new ways to increase organizational efficiency,…'}, {'Title': 'Assistant Restaurant Manager', 'Company': '1051 GWR Bar & Grill', 'Location': 'Glasgow G12', 'Link': 'https://uk.indeed.com/viewjob?jk=29f79202457f4262', 'Status': 'EmployerActive 2 days ago', 'salary': '£25,000 - £32,000 a year', 'Description': 'Salary between £25000-£32000 depending on experience.'}, {'Title': 'Assistant Brand Manager', 'Company': 'Carlsberg Marston’s Brewing Company', 'Location': 'Remote', 'Link': 'https://uk.indeed.com/viewjob?jk=42d9d0c233c71177', 'Status': 'PostedPosted 5 days ago', 'salary': 'Not Declared', 'Description': 'Deliver clear and focused plans that deliver ROI on above the line investment and below the line activation.'}, {'Title': 'Assistant Policy Manager', 'Company': 'Ofgem', 'Location': 'Glasgow G1+1 location', 'Link': 'https://uk.indeed.com/viewjob?jk=fae6d5ffcc33fffa', 'Status': 'PostedPosted 30+ days ago', 'salary': '£23,641 - £29,382 a year', 'Description': 'You’ll have excellent organisational and prioritisation skills, and the ability to manage your own workload.'}, {'Title': 'Assistant Store Manager', 'Company': 'Michael Kors', 'Location': 'Glasgow+2 locations', 'Link': 'https://uk.indeed.com/viewjob?jk=b3299045b3af1f1a', 'Status': 'PostedPosted 12 days ago', 'salary': 'Not Declared', 'Description': '\\uf0b7 Maintain a keen interest in the fashion industry and market trends.'}, {'Title': 'Assistant Manager', 'Company': 'skːn Clinics', 'Location': 'Glasgow G1+1 location', 'Link': 'https://uk.indeed.com/viewjob?jk=53765a97ac3ea646', 'Status': 'EmployerActive 8 days ago', 'salary': 'Up to £23,000 a year', 'Description': '48-50 Gordon St, Glasgow G1 3PU.'}, {'Title': 'Assistant Store Manager [Fendi Heathrow T4]', 'Company': 'Fendi', 'Location': 'London Heathrow Airport', 'Link': 'https://uk.indeed.com/viewjob?jk=e254c56f5fa494c7', 'Status': 'PostedPosted 4 days ago', 'salary': 'Not Declared', 'Description': 'Contribute to a \"top level\" customer service, in all aspects, in order to meet effectively and in a timely fashion any request of clientele.'}, {'Title': 'Assistant Manager - Flannels', 'Company': 'Flannels', 'Location': 'Glasgow G34', 'Link': 'https://uk.indeed.com/viewjob?jk=6cb507636987a6da', 'Status': 'PostedPosted 30+ days ago', 'salary': '£25,250 - £35,000 a year', 'Description': 'Trend aware, fashion conscious and well presented at all times.'}, {'Title': 'Assistant Manager, Gordon Street Coffee', 'Company': 'The Foundation Group (Glendola Leisure)', 'Location': 'Glasgow G1', 'Link': 'https://uk.indeed.com/viewjob?jk=37462b8b1beb1b87', 'Status': 'PostedPosted 3 days ago', 'salary': '£24,440 a year', 'Description': 'This is a full-time role, ideal for someone from a small batch background looking to develop their management skills, or alternatively someone from a volume…'}, {'Title': 'Assistant Manager, Cash Settlements & Confirmations, Markets...', 'Company': 'Lloyds Banking Group', 'Location': 'Hybrid remote in London', 'Link': 'https://uk.indeed.com/viewjob?jk=531dcc20cc7f4e22', 'Status': 'PostedPosted 12 days ago', 'salary': '£38,632 - £48,290 a year', 'Description': 'Ability to work accurately and efficiently across a wide range of currency timelines, both under own supervision and as part of a team.'}, {'Title': 'Assistant/Trainee Property Manager - Career opportunity', 'Company': 'Scottish Property Jobs', 'Location': 'Glasgow', 'Link': 'https://uk.indeed.com/viewjob?jk=1ae0e67091c5250e', 'Status': 'PostedPosted 9 days ago', 'salary': '£21,000 - £22,000 a year', 'Description': 'If you have good customer service skills, strong admin abilities and an interest in property then this is a fantastic opening with a well established company.'}, {'Title': 'Assistant Manager', 'Company': 'Five Guys', 'Location': 'Edinburgh+48 locations', 'Link': 'https://uk.indeed.com/viewjob?jk=f786a26d3fed1958', 'Status': 'PostedPosted 6 days ago', 'salary': '£28,750 a year', 'Description': 'An achievable quarterly bonus scheme worth up to £6,000 a year.'}]\n"
     ]
    }
   ],
   "source": [
    "for pages in range(0,10): # run throw the first 10 pages\n",
    "    info=extract_the(pages)[0]\n",
    "    transform(info)\n",
    "\n",
    "print(joblist)"
   ]
  },
  {
   "cell_type": "code",
   "execution_count": 170,
   "id": "3def18e1",
   "metadata": {},
   "outputs": [],
   "source": [
    "df=pd.DataFrame(joblist) #creating a dataframe"
   ]
  },
  {
   "cell_type": "code",
   "execution_count": 171,
   "id": "9f95f71b",
   "metadata": {},
   "outputs": [
    {
     "data": {
      "text/html": [
       "<div>\n",
       "<style scoped>\n",
       "    .dataframe tbody tr th:only-of-type {\n",
       "        vertical-align: middle;\n",
       "    }\n",
       "\n",
       "    .dataframe tbody tr th {\n",
       "        vertical-align: top;\n",
       "    }\n",
       "\n",
       "    .dataframe thead th {\n",
       "        text-align: right;\n",
       "    }\n",
       "</style>\n",
       "<table border=\"1\" class=\"dataframe\">\n",
       "  <thead>\n",
       "    <tr style=\"text-align: right;\">\n",
       "      <th></th>\n",
       "      <th>Title</th>\n",
       "      <th>Company</th>\n",
       "      <th>Location</th>\n",
       "      <th>Link</th>\n",
       "      <th>Status</th>\n",
       "      <th>salary</th>\n",
       "      <th>Description</th>\n",
       "    </tr>\n",
       "  </thead>\n",
       "  <tbody>\n",
       "    <tr>\n",
       "      <th>0</th>\n",
       "      <td>Assistant General Manager</td>\n",
       "      <td>Stravaigin</td>\n",
       "      <td>Glasgow G12</td>\n",
       "      <td>https://uk.indeed.com/viewjob?jk=990c1b1d66698dc5</td>\n",
       "      <td>EmployerActive 4 days ago</td>\n",
       "      <td>£31,000 - £35,000 a year</td>\n",
       "      <td>To implement and maintain training schedule an...</td>\n",
       "    </tr>\n",
       "    <tr>\n",
       "      <th>1</th>\n",
       "      <td>Retail Assistant Manager</td>\n",
       "      <td>French Connection</td>\n",
       "      <td>Glasgow G1</td>\n",
       "      <td>https://uk.indeed.com/viewjob?jk=109b5c4ad56f924b</td>\n",
       "      <td>EmployerActive 4 days ago</td>\n",
       "      <td>£21,000 - £23,000 a year</td>\n",
       "      <td>The ability to excel in a commercially focused...</td>\n",
       "    </tr>\n",
       "    <tr>\n",
       "      <th>2</th>\n",
       "      <td>Assistant Venue Manager</td>\n",
       "      <td>VEGA</td>\n",
       "      <td>Glasgow G2</td>\n",
       "      <td>https://uk.indeed.com/viewjob?jk=e7bfca102a9f49a8</td>\n",
       "      <td>Posted11 days ago</td>\n",
       "      <td>£26,000 a year</td>\n",
       "      <td>We are looking for someone who loves to coach ...</td>\n",
       "    </tr>\n",
       "    <tr>\n",
       "      <th>3</th>\n",
       "      <td>Trainee Assistant Manager</td>\n",
       "      <td>Savoy Nightclub</td>\n",
       "      <td>Glasgow G2</td>\n",
       "      <td>https://uk.indeed.com/viewjob?jk=cff3fe3553c380e5</td>\n",
       "      <td>PostedToday</td>\n",
       "      <td>£10 - £15 an hour</td>\n",
       "      <td>Day to day running of the business.</td>\n",
       "    </tr>\n",
       "    <tr>\n",
       "      <th>4</th>\n",
       "      <td>Assistant Manager- Gordon Street Coffee</td>\n",
       "      <td>Gordon St Coffee - Glasgow</td>\n",
       "      <td>Glasgow G1</td>\n",
       "      <td>https://uk.indeed.com/viewjob?jk=774b2a4fc750822e</td>\n",
       "      <td>Posted3 days ago</td>\n",
       "      <td>Not Declared</td>\n",
       "      <td>This is a full-time role, ideal for someone fr...</td>\n",
       "    </tr>\n",
       "    <tr>\n",
       "      <th>5</th>\n",
       "      <td>Assistant General Manager - Glasgow</td>\n",
       "      <td>The Alchemist Bar &amp; Restaurant</td>\n",
       "      <td>Glasgow+2 locations</td>\n",
       "      <td>https://uk.indeed.com/viewjob?jk=550792536ff3fcb0</td>\n",
       "      <td>EmployerActive 3 days ago</td>\n",
       "      <td>From £30,000 a year</td>\n",
       "      <td>You will begin to learn, Profits &amp; Loss, Sales...</td>\n",
       "    </tr>\n",
       "    <tr>\n",
       "      <th>6</th>\n",
       "      <td>Assistant Manager</td>\n",
       "      <td>Brewdog Plc</td>\n",
       "      <td>Glasgow G1+5 locations</td>\n",
       "      <td>https://uk.indeed.com/viewjob?jk=a59ef542d879b4be</td>\n",
       "      <td>Posted3 days ago</td>\n",
       "      <td>Not Declared</td>\n",
       "      <td>COMPANY SHARES OVER 4 YEARS | 50% PROFIT SCHEM...</td>\n",
       "    </tr>\n",
       "    <tr>\n",
       "      <th>7</th>\n",
       "      <td>Assistant Project Manager</td>\n",
       "      <td>SSE</td>\n",
       "      <td>+4 locationsRemote</td>\n",
       "      <td>https://uk.indeed.com/viewjob?jk=fc5f2b2e3c70632e</td>\n",
       "      <td>Posted12 days ago</td>\n",
       "      <td>£32,600 - £48,800 a year</td>\n",
       "      <td>Lead the co-ordination of and provide input to...</td>\n",
       "    </tr>\n",
       "    <tr>\n",
       "      <th>8</th>\n",
       "      <td>Assistant Night Manager</td>\n",
       "      <td>Hilton Glasgow Hotel</td>\n",
       "      <td>Glasgow G3</td>\n",
       "      <td>https://uk.indeed.com/viewjob?jk=5daaa3109f2cbd33</td>\n",
       "      <td>Posted6 days ago</td>\n",
       "      <td>Up to £22,308 a year</td>\n",
       "      <td>You enjoy delivering a VIP experience to every...</td>\n",
       "    </tr>\n",
       "    <tr>\n",
       "      <th>9</th>\n",
       "      <td>Assistant Manager - Chopstix Silverburn</td>\n",
       "      <td>Chopstix</td>\n",
       "      <td>Glasgow G53</td>\n",
       "      <td>https://uk.indeed.com/viewjob?jk=8b2269a244df1dc8</td>\n",
       "      <td>Posted2 days ago</td>\n",
       "      <td>£24,000 - £26,000 a year</td>\n",
       "      <td>Deliver exceptional customer service every time?</td>\n",
       "    </tr>\n",
       "  </tbody>\n",
       "</table>\n",
       "</div>"
      ],
      "text/plain": [
       "                                     Title                         Company  \\\n",
       "0                Assistant General Manager                      Stravaigin   \n",
       "1                 Retail Assistant Manager               French Connection   \n",
       "2                  Assistant Venue Manager                            VEGA   \n",
       "3                Trainee Assistant Manager                 Savoy Nightclub   \n",
       "4  Assistant Manager- Gordon Street Coffee      Gordon St Coffee - Glasgow   \n",
       "5      Assistant General Manager - Glasgow  The Alchemist Bar & Restaurant   \n",
       "6                        Assistant Manager                     Brewdog Plc   \n",
       "7                Assistant Project Manager                             SSE   \n",
       "8                  Assistant Night Manager            Hilton Glasgow Hotel   \n",
       "9  Assistant Manager - Chopstix Silverburn                        Chopstix   \n",
       "\n",
       "                 Location                                               Link  \\\n",
       "0             Glasgow G12  https://uk.indeed.com/viewjob?jk=990c1b1d66698dc5   \n",
       "1              Glasgow G1  https://uk.indeed.com/viewjob?jk=109b5c4ad56f924b   \n",
       "2              Glasgow G2  https://uk.indeed.com/viewjob?jk=e7bfca102a9f49a8   \n",
       "3              Glasgow G2  https://uk.indeed.com/viewjob?jk=cff3fe3553c380e5   \n",
       "4              Glasgow G1  https://uk.indeed.com/viewjob?jk=774b2a4fc750822e   \n",
       "5     Glasgow+2 locations  https://uk.indeed.com/viewjob?jk=550792536ff3fcb0   \n",
       "6  Glasgow G1+5 locations  https://uk.indeed.com/viewjob?jk=a59ef542d879b4be   \n",
       "7      +4 locationsRemote  https://uk.indeed.com/viewjob?jk=fc5f2b2e3c70632e   \n",
       "8              Glasgow G3  https://uk.indeed.com/viewjob?jk=5daaa3109f2cbd33   \n",
       "9             Glasgow G53  https://uk.indeed.com/viewjob?jk=8b2269a244df1dc8   \n",
       "\n",
       "                      Status                    salary  \\\n",
       "0  EmployerActive 4 days ago  £31,000 - £35,000 a year   \n",
       "1  EmployerActive 4 days ago  £21,000 - £23,000 a year   \n",
       "2          Posted11 days ago            £26,000 a year   \n",
       "3                PostedToday         £10 - £15 an hour   \n",
       "4           Posted3 days ago              Not Declared   \n",
       "5  EmployerActive 3 days ago       From £30,000 a year   \n",
       "6           Posted3 days ago              Not Declared   \n",
       "7          Posted12 days ago  £32,600 - £48,800 a year   \n",
       "8           Posted6 days ago      Up to £22,308 a year   \n",
       "9           Posted2 days ago  £24,000 - £26,000 a year   \n",
       "\n",
       "                                         Description  \n",
       "0  To implement and maintain training schedule an...  \n",
       "1  The ability to excel in a commercially focused...  \n",
       "2  We are looking for someone who loves to coach ...  \n",
       "3                Day to day running of the business.  \n",
       "4  This is a full-time role, ideal for someone fr...  \n",
       "5  You will begin to learn, Profits & Loss, Sales...  \n",
       "6  COMPANY SHARES OVER 4 YEARS | 50% PROFIT SCHEM...  \n",
       "7  Lead the co-ordination of and provide input to...  \n",
       "8  You enjoy delivering a VIP experience to every...  \n",
       "9   Deliver exceptional customer service every time?  "
      ]
     },
     "execution_count": 171,
     "metadata": {},
     "output_type": "execute_result"
    }
   ],
   "source": [
    "df.head(10)# head of the data frame"
   ]
  },
  {
   "cell_type": "code",
   "execution_count": 173,
   "id": "f73e9838",
   "metadata": {},
   "outputs": [],
   "source": [
    "df.to_excel('GlasgowJobs.xlsx', sheet_name='AssistantManager')"
   ]
  }
 ],
 "metadata": {
  "kernelspec": {
   "display_name": "Python 3 (ipykernel)",
   "language": "python",
   "name": "python3"
  },
  "language_info": {
   "codemirror_mode": {
    "name": "ipython",
    "version": 3
   },
   "file_extension": ".py",
   "mimetype": "text/x-python",
   "name": "python",
   "nbconvert_exporter": "python",
   "pygments_lexer": "ipython3",
   "version": "3.9.12"
  }
 },
 "nbformat": 4,
 "nbformat_minor": 5
}
