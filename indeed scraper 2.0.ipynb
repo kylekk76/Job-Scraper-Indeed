{
 "cells": [
  {
   "cell_type": "markdown",
   "id": "8c76d30c",
   "metadata": {},
   "source": [
    "<h1>Job Searcher Indeed </h1>\n"
   ]
  },
  {
   "cell_type": "markdown",
   "id": "7a32ecbe",
   "metadata": {},
   "source": [
    "Before we used \"requests\" library but as indeed is now part of cloudflare we need to use a library as cloudscraper to bypass that wee security."
   ]
  },
  {
   "cell_type": "code",
   "execution_count": 1,
   "id": "dff7eb25",
   "metadata": {},
   "outputs": [],
   "source": [
    "#import requests\n",
    "import cloudscraper\n",
    "from bs4 import BeautifulSoup\n",
    "import pandas as pd"
   ]
  },
  {
   "cell_type": "markdown",
   "id": "66760371",
   "metadata": {},
   "source": [
    "We eliminate the headers as they are not necesary for this proyect, as before they was for the requests library.\n",
    "\n",
    "* headers={\"user_Agents\":\"Mozilla/5.0 (Windows NT 10.0; Win64; x64) AppleWebKit/537.36 (KHTML, like Gecko) Chrome/103.0.0.0 Safari/537.36\"}"
   ]
  },
  {
   "cell_type": "code",
   "execution_count": 2,
   "id": "38aa99c0",
   "metadata": {
    "scrolled": true
   },
   "outputs": [
    {
     "name": "stdout",
     "output_type": "stream",
     "text": [
      "<Response [200]>\n"
     ]
    }
   ],
   "source": [
    "def extract_the(page=0,word1=\"assistant\",word2=\"manager\"):\n",
    "    scraper = cloudscraper.create_scraper(delay=10, browser='chrome')\n",
    "    url=f'https://uk.indeed.com/jobs?q={word1}+{word2}&start={page}' # placeholder to go throw the information we need\n",
    "    r = scraper.get(url)\n",
    "    soup= BeautifulSoup(r.text,\"html.parser\")\n",
    "    return soup,r\n",
    "print(extract_the()[1])"
   ]
  },
  {
   "cell_type": "markdown",
   "id": "08569985",
   "metadata": {},
   "source": [
    "**We also add the response in the last cell, to catch is is a problem with the update of the cloudflare as the last time and we are not conecting properly.**"
   ]
  },
  {
   "cell_type": "code",
   "execution_count": 3,
   "id": "24511829",
   "metadata": {},
   "outputs": [
    {
     "name": "stdout",
     "output_type": "stream",
     "text": [
      "done\n"
     ]
    }
   ],
   "source": [
    "def transform(soup):\n",
    "\n",
    "    jobs=soup.find_all(\"div\",class_=\"job_seen_beacon\") # the list that it gives us back is each of the jobs\n",
    "    for job in jobs: # we go throw the list finding what we need and adding all of this to a dictionary\n",
    "        djobs={\n",
    "        \"Title\"      :job.find(\"a\").text.strip(),\n",
    "        \"Company\"    :job.find(\"span\",class_=\"companyName\").text.strip(),\n",
    "        \"Location\"   :job.find(\"div\",class_=\"companyLocation\").text.strip(),\n",
    "        \"Link\"       :\"https://uk.indeed.com/viewjob?jk=\"+ job.find(\"a\").attrs[\"data-jk\"],\n",
    "        \"Status\"     :job.find(\"span\",class_=\"date\").text.strip()\n",
    "        }\n",
    "        try: # some of them do not have salary so to try evade errors we do a try and except\n",
    "            djobs[\"salary\"]=job.find(\"div\",class_=\"metadata salary-snippet-container\").text.strip()\n",
    "        except:\n",
    "            djobs[\"salary\"]=\"Not Declared\"\n",
    "        try: # this sometimes give error, i can not find the problem yet, so we leave here\n",
    "            djobs[\"Description\"]=job.find(\"li\").text.strip()\n",
    "        except:\n",
    "            djobs[\"Description\"]=\"Not Found\"\n",
    "            \n",
    "        joblist.append(djobs)\n",
    "    return \n",
    "\n",
    "joblist=[] \n",
    "            \n",
    "print(\"done\")"
   ]
  },
  {
   "cell_type": "code",
   "execution_count": 4,
   "id": "a9be2838",
   "metadata": {
    "scrolled": true
   },
   "outputs": [],
   "source": [
    "for pages in range(0,10): # run throw the first 10 pages\n",
    "    info=extract_the(pages)[0]\n",
    "    transform(info)\n",
    "\n",
    "#print(joblist)"
   ]
  },
  {
   "cell_type": "code",
   "execution_count": 5,
   "id": "3def18e1",
   "metadata": {},
   "outputs": [],
   "source": [
    "df=pd.DataFrame(joblist) #creating a dataframe"
   ]
  },
  {
   "cell_type": "code",
   "execution_count": 6,
   "id": "9f95f71b",
   "metadata": {},
   "outputs": [
    {
     "data": {
      "text/html": [
       "<div>\n",
       "<style scoped>\n",
       "    .dataframe tbody tr th:only-of-type {\n",
       "        vertical-align: middle;\n",
       "    }\n",
       "\n",
       "    .dataframe tbody tr th {\n",
       "        vertical-align: top;\n",
       "    }\n",
       "\n",
       "    .dataframe thead th {\n",
       "        text-align: right;\n",
       "    }\n",
       "</style>\n",
       "<table border=\"1\" class=\"dataframe\">\n",
       "  <thead>\n",
       "    <tr style=\"text-align: right;\">\n",
       "      <th></th>\n",
       "      <th>Title</th>\n",
       "      <th>Company</th>\n",
       "      <th>Location</th>\n",
       "      <th>Link</th>\n",
       "      <th>Status</th>\n",
       "      <th>salary</th>\n",
       "      <th>Description</th>\n",
       "    </tr>\n",
       "  </thead>\n",
       "  <tbody>\n",
       "    <tr>\n",
       "      <th>0</th>\n",
       "      <td>Assistant Store Manager</td>\n",
       "      <td>DFS Furniture Stores</td>\n",
       "      <td>Glasgow</td>\n",
       "      <td>https://uk.indeed.com/viewjob?jk=a477287423f067d9</td>\n",
       "      <td>PostedPosted 2 days ago</td>\n",
       "      <td>£65,000 a year</td>\n",
       "      <td>They coach, motivate, and inspire their collea...</td>\n",
       "    </tr>\n",
       "    <tr>\n",
       "      <th>1</th>\n",
       "      <td>Assistant Venue Manager</td>\n",
       "      <td>Vega</td>\n",
       "      <td>Glasgow G2</td>\n",
       "      <td>https://uk.indeed.com/viewjob?jk=e7bfca102a9f49a8</td>\n",
       "      <td>PostedPosted 15 days ago</td>\n",
       "      <td>£26,000 a year</td>\n",
       "      <td>We are looking for someone who loves to coach ...</td>\n",
       "    </tr>\n",
       "    <tr>\n",
       "      <th>2</th>\n",
       "      <td>Assistant manager</td>\n",
       "      <td>Gamba</td>\n",
       "      <td>Glasgow</td>\n",
       "      <td>https://uk.indeed.com/viewjob?jk=c9c5dda56c4d4d58</td>\n",
       "      <td>PostedPosted 2 days ago</td>\n",
       "      <td>£27,000 a year</td>\n",
       "      <td>You would have responsability for assistaning ...</td>\n",
       "    </tr>\n",
       "    <tr>\n",
       "      <th>3</th>\n",
       "      <td>Assistant Manager</td>\n",
       "      <td>Savoy Nightclub</td>\n",
       "      <td>Glasgow G2</td>\n",
       "      <td>https://uk.indeed.com/viewjob?jk=cff3fe3553c380e5</td>\n",
       "      <td>EmployerActive 3 days ago</td>\n",
       "      <td>£21,000 - £23,000 a year</td>\n",
       "      <td>Day to day running of the business.</td>\n",
       "    </tr>\n",
       "    <tr>\n",
       "      <th>4</th>\n",
       "      <td>Assistant Manager</td>\n",
       "      <td>HY Hospitality Group</td>\n",
       "      <td>Glasgow G2</td>\n",
       "      <td>https://uk.indeed.com/viewjob?jk=130b741f7def4cab</td>\n",
       "      <td>PostedToday</td>\n",
       "      <td>From £24,000 a year</td>\n",
       "      <td>45 hour contracted working week.</td>\n",
       "    </tr>\n",
       "    <tr>\n",
       "      <th>5</th>\n",
       "      <td>Assistant General Manager - Glasgow</td>\n",
       "      <td>The Alchemist Bar &amp; Restaurant</td>\n",
       "      <td>Glasgow+2 locations</td>\n",
       "      <td>https://uk.indeed.com/viewjob?jk=550792536ff3fcb0</td>\n",
       "      <td>EmployerActive 6 days ago</td>\n",
       "      <td>From £30,000 a year</td>\n",
       "      <td>You will begin to learn, Profits &amp; Loss, Sales...</td>\n",
       "    </tr>\n",
       "    <tr>\n",
       "      <th>6</th>\n",
       "      <td>General and Assistant General Manager</td>\n",
       "      <td>Wonder World Group</td>\n",
       "      <td>Glasgow</td>\n",
       "      <td>https://uk.indeed.com/viewjob?jk=4fd78a1f5d8a4bb0</td>\n",
       "      <td>PostedToday</td>\n",
       "      <td>£22,000 - £30,000 a year</td>\n",
       "      <td>Required to work non traditional hours, weeken...</td>\n",
       "    </tr>\n",
       "    <tr>\n",
       "      <th>7</th>\n",
       "      <td>Assistant Manager</td>\n",
       "      <td>Blue Lagoon Fish &amp; Chips</td>\n",
       "      <td>Glasgow</td>\n",
       "      <td>https://uk.indeed.com/viewjob?jk=10d10a7b11ba4d89</td>\n",
       "      <td>PostedPosted 2 days ago</td>\n",
       "      <td>From £11 an hour</td>\n",
       "      <td>You will be fully trained in all aspects which...</td>\n",
       "    </tr>\n",
       "    <tr>\n",
       "      <th>8</th>\n",
       "      <td>Assistant Manager - Flannels</td>\n",
       "      <td>Flannels</td>\n",
       "      <td>Glasgow G34</td>\n",
       "      <td>https://uk.indeed.com/viewjob?jk=6cb507636987a6da</td>\n",
       "      <td>PostedPosted 30+ days ago</td>\n",
       "      <td>£25,250 - £35,000 a year</td>\n",
       "      <td>Trend aware, fashion conscious and well presen...</td>\n",
       "    </tr>\n",
       "    <tr>\n",
       "      <th>9</th>\n",
       "      <td>Assistant Manager</td>\n",
       "      <td>ABERDAM Dutch Fries</td>\n",
       "      <td>Glasgow G5</td>\n",
       "      <td>https://uk.indeed.com/viewjob?jk=443c86b4cd2f54d1</td>\n",
       "      <td>PostedToday</td>\n",
       "      <td>£21,665 - £23,000 a year</td>\n",
       "      <td>Our flagship site see over 1000 orders a week ...</td>\n",
       "    </tr>\n",
       "  </tbody>\n",
       "</table>\n",
       "</div>"
      ],
      "text/plain": [
       "                                   Title                         Company  \\\n",
       "0                Assistant Store Manager            DFS Furniture Stores   \n",
       "1                Assistant Venue Manager                            Vega   \n",
       "2                      Assistant manager                           Gamba   \n",
       "3                      Assistant Manager                 Savoy Nightclub   \n",
       "4                      Assistant Manager            HY Hospitality Group   \n",
       "5    Assistant General Manager - Glasgow  The Alchemist Bar & Restaurant   \n",
       "6  General and Assistant General Manager              Wonder World Group   \n",
       "7                      Assistant Manager        Blue Lagoon Fish & Chips   \n",
       "8           Assistant Manager - Flannels                        Flannels   \n",
       "9                      Assistant Manager             ABERDAM Dutch Fries   \n",
       "\n",
       "              Location                                               Link  \\\n",
       "0              Glasgow  https://uk.indeed.com/viewjob?jk=a477287423f067d9   \n",
       "1           Glasgow G2  https://uk.indeed.com/viewjob?jk=e7bfca102a9f49a8   \n",
       "2              Glasgow  https://uk.indeed.com/viewjob?jk=c9c5dda56c4d4d58   \n",
       "3           Glasgow G2  https://uk.indeed.com/viewjob?jk=cff3fe3553c380e5   \n",
       "4           Glasgow G2  https://uk.indeed.com/viewjob?jk=130b741f7def4cab   \n",
       "5  Glasgow+2 locations  https://uk.indeed.com/viewjob?jk=550792536ff3fcb0   \n",
       "6              Glasgow  https://uk.indeed.com/viewjob?jk=4fd78a1f5d8a4bb0   \n",
       "7              Glasgow  https://uk.indeed.com/viewjob?jk=10d10a7b11ba4d89   \n",
       "8          Glasgow G34  https://uk.indeed.com/viewjob?jk=6cb507636987a6da   \n",
       "9           Glasgow G5  https://uk.indeed.com/viewjob?jk=443c86b4cd2f54d1   \n",
       "\n",
       "                      Status                    salary  \\\n",
       "0    PostedPosted 2 days ago            £65,000 a year   \n",
       "1   PostedPosted 15 days ago            £26,000 a year   \n",
       "2    PostedPosted 2 days ago            £27,000 a year   \n",
       "3  EmployerActive 3 days ago  £21,000 - £23,000 a year   \n",
       "4                PostedToday       From £24,000 a year   \n",
       "5  EmployerActive 6 days ago       From £30,000 a year   \n",
       "6                PostedToday  £22,000 - £30,000 a year   \n",
       "7    PostedPosted 2 days ago          From £11 an hour   \n",
       "8  PostedPosted 30+ days ago  £25,250 - £35,000 a year   \n",
       "9                PostedToday  £21,665 - £23,000 a year   \n",
       "\n",
       "                                         Description  \n",
       "0  They coach, motivate, and inspire their collea...  \n",
       "1  We are looking for someone who loves to coach ...  \n",
       "2  You would have responsability for assistaning ...  \n",
       "3                Day to day running of the business.  \n",
       "4                   45 hour contracted working week.  \n",
       "5  You will begin to learn, Profits & Loss, Sales...  \n",
       "6  Required to work non traditional hours, weeken...  \n",
       "7  You will be fully trained in all aspects which...  \n",
       "8  Trend aware, fashion conscious and well presen...  \n",
       "9  Our flagship site see over 1000 orders a week ...  "
      ]
     },
     "execution_count": 6,
     "metadata": {},
     "output_type": "execute_result"
    }
   ],
   "source": [
    "df.head(10)# head of the data frame"
   ]
  },
  {
   "cell_type": "code",
   "execution_count": 7,
   "id": "f73e9838",
   "metadata": {},
   "outputs": [],
   "source": [
    "df.to_excel('GlasgowJobs.xlsx', sheet_name='AssistantManager')"
   ]
  }
 ],
 "metadata": {
  "kernelspec": {
   "display_name": "Python 3 (ipykernel)",
   "language": "python",
   "name": "python3"
  },
  "language_info": {
   "codemirror_mode": {
    "name": "ipython",
    "version": 3
   },
   "file_extension": ".py",
   "mimetype": "text/x-python",
   "name": "python",
   "nbconvert_exporter": "python",
   "pygments_lexer": "ipython3",
   "version": "3.9.12"
  }
 },
 "nbformat": 4,
 "nbformat_minor": 5
}
